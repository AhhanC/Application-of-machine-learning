{
  "nbformat": 4,
  "nbformat_minor": 0,
  "metadata": {
    "colab": {
      "provenance": []
    },
    "kernelspec": {
      "name": "python3",
      "display_name": "Python 3"
    },
    "language_info": {
      "name": "python"
    }
  },
  "cells": [
    {
      "cell_type": "code",
      "execution_count": 1,
      "metadata": {
        "id": "d1_Fpy7LTGgj",
        "colab": {
          "base_uri": "https://localhost:8080/"
        },
        "outputId": "e14eab06-522f-4d4c-e7a9-3ec4b9a1b7d5"
      },
      "outputs": [
        {
          "output_type": "stream",
          "name": "stdout",
          "text": [
            "T-statistic: inf\n",
            "P-value: 0.0\n",
            "Reject null hypothesis: There is a significant difference between the groups.\n"
          ]
        },
        {
          "output_type": "stream",
          "name": "stderr",
          "text": [
            "/usr/local/lib/python3.10/dist-packages/scipy/stats/_axis_nan_policy.py:523: RuntimeWarning: Precision loss occurred in moment calculation due to catastrophic cancellation. This occurs when the data are nearly identical. Results may be unreliable.\n",
            "  res = hypotest_fun_out(*samples, **kwds)\n"
          ]
        }
      ],
      "source": [
        "from scipy import stats\n",
        "\n",
        "# Sample paired data\n",
        "before = [10, 12, 14, 16, 18]\n",
        "after = [9, 11, 13, 15, 17]\n",
        "\n",
        "# Perform paired t-test\n",
        "t_statistic, p_value = stats.ttest_rel(before, after)\n",
        "\n",
        "# Output results\n",
        "print(\"T-statistic:\", t_statistic)\n",
        "print(\"P-value:\", p_value)\n",
        "\n",
        "# Interpret results\n",
        "alpha = 0.05\n",
        "if p_value < alpha:\n",
        "    print(\"Reject null hypothesis: There is a significant difference between the groups.\")\n",
        "else:\n",
        "    print(\"Fail to reject null hypothesis: There is no significant difference between the groups.\")"
      ]
    }
  ]
}