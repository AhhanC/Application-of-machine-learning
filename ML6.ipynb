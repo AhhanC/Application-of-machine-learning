{
  "nbformat": 4,
  "nbformat_minor": 0,
  "metadata": {
    "colab": {
      "provenance": []
    },
    "kernelspec": {
      "name": "python3",
      "display_name": "Python 3"
    },
    "language_info": {
      "name": "python"
    }
  },
  "cells": [
    {
      "cell_type": "code",
      "execution_count": null,
      "metadata": {
        "colab": {
          "base_uri": "https://localhost:8080/"
        },
        "id": "feMftho3O9jS",
        "outputId": "5e30fbcf-4a6d-45b5-ece9-014b01b30337"
      },
      "outputs": [
        {
          "output_type": "stream",
          "name": "stdout",
          "text": [
            "F-Statistic: 0.0690178232840349\n",
            "P-value: 0.9336777829825856\n",
            "Fail to reject null hypothesis. There are no significant differences between the groups.\n"
          ]
        }
      ],
      "source": [
        "import numpy as np\n",
        "from scipy.stats import f_oneway\n",
        "\n",
        "# Sample data for three groups\n",
        "group1 = [15, 20, 25, 30, 35]\n",
        "group2 = [10, 22, 28, 32, 38]\n",
        "group3 = [12, 18, 24, 29, 36]\n",
        "\n",
        "# Perform one-way ANOVA\n",
        "f_statistic, p_value = f_oneway(group1, group2, group3)\n",
        "\n",
        "print(\"F-Statistic:\", f_statistic)\n",
        "print(\"P-value:\", p_value)\n",
        "\n",
        "# Interpret the results\n",
        "alpha = 0.05\n",
        "if p_value < alpha:\n",
        "    print(\"Reject null hypothesis. There are significant differences between the groups.\")\n",
        "else:\n",
        "    print(\"Fail to reject null hypothesis. There are no significant differences between the groups.\")\n",
        "\n"
      ]
    }
  ]
}